{
 "cells": [
  {
   "cell_type": "code",
   "execution_count": 85,
   "metadata": {},
   "outputs": [],
   "source": [
    "from decouple import config \n",
    "import psycopg2 \n",
    "\n",
    "USER = config('USER')\n",
    "HOST = config('HOST')\n",
    "PORT = config('PORT')\n",
    "\n",
    "PASSWORD = config('PASSWORD')\n",
    "DBNAME = config('DBNAME')\n",
    "\n",
    "\n",
    "\n",
    "\n",
    "conn = psycopg2.connect(database = DBNAME, user = USER, password = PASSWORD, host = HOST, port = PORT)\n",
    "\n",
    "cur = conn.cursor()\n",
    "\n",
    "with open('sqlScripts/creadorTablas.sql') as f:\n",
    "    for line in f:\n",
    "        cur.execute(line)\n",
    "\n",
    "\n",
    "conn.commit() # <--- makes sure the change is shown in the database\n",
    "\n",
    "conn.close()\n",
    "cur.close()\n"
   ]
  },
  {
   "cell_type": "code",
   "execution_count": null,
   "metadata": {},
   "outputs": [],
   "source": [
    "def addRow():\n",
    "    query = \"ALTER TABLE students \\ ADD enrollment_year VARCHAR(100) \\ FIRST\""
   ]
  },
  {
   "cell_type": "code",
   "execution_count": null,
   "metadata": {},
   "outputs": [],
   "source": []
  }
 ],
 "metadata": {
  "interpreter": {
   "hash": "7bd98636d4a20fe018e287a83db47090b6659692ee4acf3e063777fc8b0e3952"
  },
  "kernelspec": {
   "display_name": "Python 3.10.4 ('alkemy')",
   "language": "python",
   "name": "python3"
  },
  "language_info": {
   "codemirror_mode": {
    "name": "ipython",
    "version": 3
   },
   "file_extension": ".py",
   "mimetype": "text/x-python",
   "name": "python",
   "nbconvert_exporter": "python",
   "pygments_lexer": "ipython3",
   "version": "3.10.4"
  },
  "orig_nbformat": 4
 },
 "nbformat": 4,
 "nbformat_minor": 2
}
