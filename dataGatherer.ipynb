{
 "cells": [
  {
   "cell_type": "code",
   "execution_count": 32,
   "metadata": {},
   "outputs": [],
   "source": [
    "import requests\n",
    "import json\n",
    "import pandas as pd\n",
    "import csv\n",
    "import os\n",
    "\n",
    "from datetime import datetime"
   ]
  },
  {
   "cell_type": "code",
   "execution_count": 33,
   "metadata": {},
   "outputs": [
    {
     "name": "stdout",
     "output_type": "stream",
     "text": [
      "Current Time is : 26-April-2022\n"
     ]
    }
   ],
   "source": [
    "# Retrieves useful date information\n",
    "\n",
    "now = datetime.now()\n",
    "\n",
    "current_date = now.strftime(\"%d-%B-%Y\")\n",
    "current_month_int = now.strftime(\"%m\")\n",
    "\n",
    "print(\"Current Time is :\", current_date)\n",
    "\n",
    "current_month = now.strftime(\"%B\")\n",
    "current_year = current_date[-4:]\n",
    "\n",
    "current_date = now.strftime(\"%d-%m-%Y\")"
   ]
  },
  {
   "cell_type": "code",
   "execution_count": 34,
   "metadata": {},
   "outputs": [],
   "source": [
    "# # Si lo tuvieramos que hacer en español usariamos este diccionario\n",
    "\n",
    "# calendar = {'01':'Enero',\n",
    "#             '02':'Febrero',\n",
    "#             '03':'Marzo',\n",
    "#             '04':'Abril',\n",
    "#             '05':'Mayo',\n",
    "#             '06':'Junio',\n",
    "#             '07':'Julio',\n",
    "#             '08':'Agosto',\n",
    "#             '09':'Septiembre',\n",
    "#             '10':'Octubre',\n",
    "#             '11':'Noviembre',\n",
    "#             '12':'Diciembre',\n",
    "# }\n",
    "\n",
    "# now = datetime.now()\n",
    "\n",
    "# current_time = now.strftime(\"%d-%m-%Y\")\n",
    "# current_month_int = now.strftime(\"%m\")\n",
    "\n",
    "# print(\"Current Time is :\", current_time)\n",
    "\n",
    "# current_month = calendar[current_month_int]\n",
    "# current_year = current_time[-4:]"
   ]
  },
  {
   "cell_type": "code",
   "execution_count": 35,
   "metadata": {},
   "outputs": [],
   "source": [
    "# Creates the basic folder structure\n",
    "\n",
    "def createFolderStructure(datasetName):\n",
    "    root = 'datasets/' + datasetName\n",
    "    directory = current_year + \"-\" + current_month\n",
    "\n",
    "    path = os.path.join(root,directory)\n",
    "    if not os.path.exists(path):\n",
    "        os.makedirs(path)"
   ]
  },
  {
   "cell_type": "code",
   "execution_count": 36,
   "metadata": {},
   "outputs": [],
   "source": [
    "# Retrieves data from webpages and then saves it on csv using the requiered directory structure\n",
    "def retrieve_and_save(datasetSource, datasetName):\n",
    "    \n",
    "    createFolderStructure(datasetName)\n",
    "\n",
    "    r = requests.get(datasetSource)\n",
    "    if r.status_code!=200:\n",
    "            print (\"Failure!!\")\n",
    "            exit()\n",
    "        \n",
    "    path = os.path.join('datasets',datasetName,current_year + \"-\" + current_month)\n",
    "\n",
    "    with open(path + '/museos-' + current_date + '.csv', 'w') as f:\n",
    "        writer = csv.writer(f)\n",
    "        for line in r.iter_lines():\n",
    "            writer.writerow(line.decode('utf-8').split(','))\n"
   ]
  },
  {
   "cell_type": "code",
   "execution_count": 37,
   "metadata": {},
   "outputs": [],
   "source": [
    "def dataGatherer():\n",
    "    web1 = \"https://datos.cultura.gob.ar/dataset/37305de4-3cce-4d4b-9d9a-fec3ca61d09f/resource/4207def0-2ff7-41d5-9095-d42ae8207a5d/download/museos_datosabiertos.csv\"\n",
    "    web2 = \"https://datos.cultura.gob.ar/dataset/37305de4-3cce-4d4b-9d9a-fec3ca61d09f/resource/392ce1a8-ef11-4776-b280-6f1c7fae16ae/download/cine.csv\"\n",
    "    web3 = \"https://datos.cultura.gob.ar/dataset/37305de4-3cce-4d4b-9d9a-fec3ca61d09f/resource/01c6c048-dbeb-44e0-8efa-6944f73715d7/download/biblioteca_popular.csv\"\n",
    "\n",
    "    retrieve_and_save (web1,'museos')\n",
    "    retrieve_and_save (web2,'salas-de-cine')\n",
    "    retrieve_and_save (web3,'bibliotecas-populares')\n",
    "    \n",
    "    print(\"Data gathered succesfully\")"
   ]
  },
  {
   "cell_type": "code",
   "execution_count": 38,
   "metadata": {},
   "outputs": [
    {
     "name": "stdout",
     "output_type": "stream",
     "text": [
      "Data gathered succesfully\n"
     ]
    }
   ],
   "source": [
    "dataGatherer()"
   ]
  },
  {
   "cell_type": "code",
   "execution_count": null,
   "metadata": {},
   "outputs": [],
   "source": []
  }
 ],
 "metadata": {
  "interpreter": {
   "hash": "7bd98636d4a20fe018e287a83db47090b6659692ee4acf3e063777fc8b0e3952"
  },
  "kernelspec": {
   "display_name": "Python 3.10.4 ('alkemy')",
   "language": "python",
   "name": "python3"
  },
  "language_info": {
   "codemirror_mode": {
    "name": "ipython",
    "version": 3
   },
   "file_extension": ".py",
   "mimetype": "text/x-python",
   "name": "python",
   "nbconvert_exporter": "python",
   "pygments_lexer": "ipython3",
   "version": "3.10.4"
  },
  "orig_nbformat": 4
 },
 "nbformat": 4,
 "nbformat_minor": 2
}
